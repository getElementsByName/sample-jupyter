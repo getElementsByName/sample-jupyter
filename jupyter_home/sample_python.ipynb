{
 "cells": [
  {
   "cell_type": "code",
   "execution_count": 1,
   "metadata": {},
   "outputs": [
    {
     "name": "stdout",
     "output_type": "stream",
     "text": [
      "Hello\n"
     ]
    }
   ],
   "source": [
    "print(\"Hello\")"
   ]
  },
  {
   "cell_type": "code",
   "execution_count": 2,
   "metadata": {},
   "outputs": [
    {
     "data": {
      "text/plain": [
       "'ad01335332'"
      ]
     },
     "execution_count": 2,
     "metadata": {},
     "output_type": "execute_result"
    }
   ],
   "source": [
    "import socket\n",
    "socket.gethostname()"
   ]
  },
  {
   "cell_type": "code",
   "execution_count": 3,
   "metadata": {},
   "outputs": [
    {
     "data": {
      "text/plain": [
       "'Linux'"
      ]
     },
     "execution_count": 3,
     "metadata": {},
     "output_type": "execute_result"
    }
   ],
   "source": [
    "import platform\n",
    "platform.system()"
   ]
  },
  {
   "cell_type": "code",
   "execution_count": 4,
   "metadata": {},
   "outputs": [
    {
     "data": {
      "text/plain": [
       "'127.0.1.1'"
      ]
     },
     "execution_count": 4,
     "metadata": {},
     "output_type": "execute_result"
    }
   ],
   "source": [
    "import socket\n",
    "socket.gethostbyname(socket.gethostname())"
   ]
  },
  {
   "cell_type": "code",
   "execution_count": 5,
   "metadata": {},
   "outputs": [
    {
     "name": "stdout",
     "output_type": "stream",
     "text": [
      "environ({'VSCODE_GIT_ASKPASS_MAIN': '/usr/share/code/resources/app/extensions/git/dist/askpass-main.js', 'PAPERSIZE': 'a4', 'DESKTOP_SESSION': 'ubuntu', 'XDG_SESSION_CLASS': 'user', 'XDG_SESSION_TYPE': 'x11', 'XAUTHORITY': '/run/user/1000/gdm/Xauthority', 'GDMSESSION': 'ubuntu', 'XMODIFIERS': '@im=fcitx', 'SHELL': '/bin/bash', 'ISTIO_HOME': '/home/hong/workspace/tools/istio', 'JOURNAL_STREAM': '9:68766', 'XDG_CONFIG_DIRS': '/etc/xdg/xdg-ubuntu:/etc/xdg', 'CONDA_PREFIX_1': '/home/hong/anaconda3', 'IM_CONFIG_PHASE': '2', 'USERNAME': 'hong', 'MANDATORY_PATH': '/usr/share/gconf/ubuntu.mandatory.path', 'XDG_DATA_DIRS': '/usr/share/ubuntu:/usr/local/share/:/usr/share/:/var/lib/snapd/desktop', '_': '/home/hong/anaconda3/envs/pdp-metric-exporter/bin/python', 'MANAGERPID': '2797', 'NCC_CLI_PATH': '/home/hong/workspace/tools/ncc', 'LESSOPEN': '| /usr/bin/lesspipe %s', 'LC_NAME': 'ko_KR.UTF-8', 'FLINK_HOME': '/home/hong/workspace/tools/flink-1.11.2', 'PATH': '/home/hong/anaconda3/envs/pdp-metric-exporter/bin:/home/hong/.npm-global/bin:/home/hong/bin:/home/hong/workspace/tools/c3dl-client/bin:/usr/local/cuda/bin:/home/hong/google-cloud-sdk/bin:/home/hong/anaconda3/condabin:/home/hong/.n/bin:/home/hong/.npm-global/bin:/home/hong/workspace/tools/nubes:/home/hong/workspace/tools/ncc:/home/hong/workspace/tools/ncc:/home/hong/workspace/tools/ncc:/home/hong/workspace/tools/ncc:/home/hong/.npm-global/bin:/home/hong/bin:/usr/local/sbin:/usr/local/bin:/usr/sbin:/usr/bin:/sbin:/bin:/usr/games:/usr/local/games:/snap/bin:/home/hong/Android/Sdk/emulator:/home/hong/Android/Sdk/tools:/home/hong/Android/Sdk/tools/bin:/home/hong/Android/Sdk/platform-tools:/home/hong/workspace/tools/go/bin:/home/hong/Android/Sdk/emulator:/home/hong/Android/Sdk/tools:/home/hong/Android/Sdk/tools/bin:/home/hong/Android/Sdk/platform-tools', 'GPG_AGENT_INFO': '/run/user/1000/gnupg/S.gpg-agent:0:1', 'SESSION_MANAGER': 'local/ad01335332:@/tmp/.ICE-unix/8661,unix/ad01335332:/tmp/.ICE-unix/8661', 'XDG_RUNTIME_DIR': '/run/user/1000', 'KUBE_EDITOR': 'code --wait', 'CUVE_HOME': '/home/hong/workspace/tools/cuve', 'XDG_MENU_PREFIX': 'gnome-', 'LC_NUMERIC': 'ko_KR.UTF-8', 'INVOCATION_ID': '01ea712f8cfa46a98c8e02009eda551c', 'ANDROID_HOME': '/home/hong/Android/Sdk', 'LS_COLORS': '', 'XDG_SESSION_DESKTOP': 'ubuntu', 'SSH_AUTH_SOCK': '/run/user/1000/keyring/ssh', 'DISPLAY': ':1', 'CONDA_EXE': '/home/hong/anaconda3/bin/conda', 'DOCKER_BUILDKIT': '1', 'HOME': '/home/hong', 'PWD': '/home/hong', 'SSH_AGENT_PID': '8754', 'NUBES_CLI_PATH': '/home/hong/workspace/tools/nubes', 'GTK_MODULES': 'gail:atk-bridge', 'DBUS_SESSION_BUS_ADDRESS': 'unix:path=/run/user/1000/bus', 'LD_LIBRARY_PATH': '/usr/local/cuda/extras/CUPTI/lib64:/usr/local/cuda/lib64', 'LESSCLOSE': '/usr/bin/lesspipe %s %s', 'LOGNAME': 'hong', 'CONDA_PROMPT_MODIFIER': '(pdp-metric-exporter) ', 'GNOME_DESKTOP_SESSION_ID': 'this-is-deprecated', 'LC_TIME': 'ko_KR.UTF-8', 'VSCODE_GIT_IPC_HANDLE': '/run/user/1000/vscode-git-3cb62d1dd4.sock', 'CONDA_DEFAULT_ENV': 'pdp-metric-exporter', 'COLORTERM': 'truecolor', 'DOCKER_PATH': '/home/hong/workspace/tools/ncc', 'QT_IM_MODULE': 'fcitx', 'SHLVL': '2', 'HELM_PATH': '/home/hong/workspace/tools/ncc', 'JAVA_HOME': '/usr/lib/jvm/java-8-openjdk-amd64/jre/', 'USER': 'hong', 'LC_MONETARY': 'ko_KR.UTF-8', 'N_PREFIX': '/home/hong/.n', 'XDG_CURRENT_DESKTOP': 'Unity', 'LIBVIRT_DEFAULT_URI': 'qemu:///system', 'GNOME_SHELL_SESSION_MODE': 'ubuntu', 'LC_TELEPHONE': 'ko_KR.UTF-8', 'NOTIFY_SOCKET': '/run/user/1000/systemd/notify', 'CONDA_SHLVL': '2', 'TERM_PROGRAM': 'vscode', 'LANGUAGE': 'en_US:en', 'VSCODE_GIT_ASKPASS_NODE': '/usr/share/code/code', 'PYTHONPATH': ':', 'MAKEFLAGS': '', 'MFLAGS': '', 'TERM_PROGRAM_VERSION': '1.51.1', 'NVM_DIR': '/home/hong/.nvm', 'MAKE_TERMOUT': '/dev/pts/1', 'LC_PAPER': 'ko_KR.UTF-8', 'KUBERNETES_CLI_PATH': '/home/hong/workspace/tools/ncc', 'QT_ACCESSIBILITY': '1', 'DEFAULTS_PATH': '/usr/share/gconf/ubuntu.default.path', 'C3DL_CLIENT_HOME': '/home/hong/workspace/tools/c3dl-client', 'GIT_ASKPASS': '/usr/share/code/resources/app/extensions/git/dist/askpass.sh', 'NSML_HOME': '/home/hong/workspace/tools/nsml', 'LC_MEASUREMENT': 'ko_KR.UTF-8', 'CONDA_PYTHON_EXE': '/home/hong/anaconda3/bin/python', '_CE_M': '', 'WINDOWPATH': '2', 'LC_IDENTIFICATION': 'ko_KR.UTF-8', 'MAKE_TERMERR': '/dev/pts/1', 'LC_ADDRESS': 'ko_KR.UTF-8', 'CONDA_PREFIX': '/home/hong/anaconda3/envs/pdp-metric-exporter', 'TERM': 'xterm-color', '_CE_CONDA': '', 'LANG': 'en_US.UTF-8', 'MAKELEVEL': '1', 'CLUTTER_IM_MODULE': 'xim', 'VSCODE_NODE_CACHED_DATA_DIR': '/home/hong/.config/Code/CachedData/db40434f562994116e5b21c24015a2e40b2504e6', 'PYTHONUNBUFFERED': '1', 'VSCODE_LOGS': '/home/hong/.config/Code/logs/20200819T064006', 'VSCODE_NLS_CONFIG': '{\"locale\":\"en-us\",\"availableLanguages\":{},\"_languagePackSupport\":true}', 'AMD_ENTRYPOINT': 'vs/workbench/services/extensions/node/extensionHostProcess', 'ORIGINAL_XDG_CURRENT_DESKTOP': 'ubuntu:GNOME', 'VSCODE_LOG_STACK': 'false', 'VSCODE_IPC_HOOK_EXTHOST': '/tmp/vscode-ipc-e2380775-33ce-46f9-b180-e006ed3f1509.sock', 'CHROME_DESKTOP': 'code-url-handler.desktop', 'XDG_VTNR': '2', 'GIO_LAUNCHED_DESKTOP_FILE_PID': '12583', 'PYTHONIOENCODING': 'utf-8', 'S_COLORS': 'auto', 'APPLICATION_INSIGHTS_NO_DIAGNOSTIC_CHANNEL': 'true', 'XDG_SESSION_ID': '3', 'QT4_IM_MODULE': 'fcitx', 'TEXTDOMAINDIR': '/usr/share/locale/', 'TEXTDOMAIN': 'im-config', 'GJS_DEBUG_OUTPUT': 'stderr', 'VSCODE_PID': '12583', 'VSCODE_HANDLES_UNCAUGHT_ERRORS': 'true', 'GIO_LAUNCHED_DESKTOP_FILE': '/usr/share/applications/code.desktop', 'ELECTRON_RUN_AS_NODE': '1', 'XDG_SEAT': 'seat0', 'PIPE_LOGGING': 'true', 'VSCODE_IPC_HOOK': '/run/user/1000/vscode-d84621c1-1.48.0-main.sock', 'GJS_DEBUG_TOPICS': 'JS ERROR;JS LOG', 'VERBOSE_LOGGING': 'true', 'GTK_IM_MODULE': 'fcitx', 'JPY_PARENT_PID': '1066650', 'CLICOLOR': '1', 'PAGER': 'cat', 'GIT_PAGER': 'cat', 'MPLBACKEND': 'module://ipykernel.pylab.backend_inline'})\n"
     ]
    }
   ],
   "source": [
    "import os\n",
    "\n",
    "print(os.environ)"
   ]
  },
  {
   "cell_type": "code",
   "execution_count": null,
   "metadata": {},
   "outputs": [],
   "source": []
  }
 ],
 "metadata": {
  "kernelspec": {
   "display_name": "Python on Kubernetes",
   "language": "python",
   "name": "python_kubernetes"
  },
  "language_info": {
   "codemirror_mode": {
    "name": "ipython",
    "version": 3
   },
   "file_extension": ".py",
   "mimetype": "text/x-python",
   "name": "python",
   "nbconvert_exporter": "python",
   "pygments_lexer": "ipython3",
   "version": "3.7.6"
  }
 },
 "nbformat": 4,
 "nbformat_minor": 4
}
